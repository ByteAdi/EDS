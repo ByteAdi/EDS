{
  "nbformat": 4,
  "nbformat_minor": 0,
  "metadata": {
    "colab": {
      "provenance": []
    },
    "kernelspec": {
      "name": "python3",
      "display_name": "Python 3"
    },
    "language_info": {
      "name": "python"
    }
  },
  "cells": [
    {
      "cell_type": "markdown",
      "source": [
        "Operations of **Numpy** functions using a csv file"
      ],
      "metadata": {
        "id": "9O6BJNHIixsA"
      }
    },
    {
      "cell_type": "code",
      "source": [
        "import numpy as np\n",
        "arr=np.loadtxt(\"/content/salary.csv\",delimiter=',',dtype=str,skiprows=1)\n",
        "print(arr)\n",
        "sal=[]\n",
        "exp=[]\n",
        "for i in arr:\n",
        "  sal.append(int(i[1]))\n",
        "  exp.append(int(i[2]))\n",
        "print(sal)\n",
        "print(exp)\n",
        "\n",
        "#converting list to numpyarray\n",
        "arr_sal=np.array(sal)\n",
        "arr_exp=np.array(exp)\n",
        "\n",
        "#displaying the array\n",
        "print(\"A1:\",arr_sal)\n",
        "print(\"A2:\",arr_exp)"
      ],
      "metadata": {
        "colab": {
          "base_uri": "https://localhost:8080/"
        },
        "id": "4SeF4XLIXWZI",
        "outputId": "d6d8d263-c727-4d32-e7a9-708a74f0107b"
      },
      "execution_count": null,
      "outputs": [
        {
          "output_type": "stream",
          "name": "stdout",
          "text": [
            "[['raj' '25000' '12000']\n",
            " ['vijay' '20000' '15000']\n",
            " ['kishor' '15000' '7000']\n",
            " ['kiran' '18000' '8000']\n",
            " ['sahil' '21000' '10000']\n",
            " ['priyank' '30000' '20000']\n",
            " ['ramesh' '28000' '25000']\n",
            " ['Aditya' '23000' '21000']\n",
            " ['Shardul ' '12000' '11000']\n",
            " ['om' '13000' '11000']\n",
            " ['Jaggy' '45000' '12000']\n",
            " ['Ishwar' '98000' '21000']\n",
            " ['Ashraf' '87000' '52000']\n",
            " ['Aniruddha' '56999' '51500']]\n",
            "[25000, 20000, 15000, 18000, 21000, 30000, 28000, 23000, 12000, 13000, 45000, 98000, 87000, 56999]\n",
            "[12000, 15000, 7000, 8000, 10000, 20000, 25000, 21000, 11000, 11000, 12000, 21000, 52000, 51500]\n",
            "A1: [25000 20000 15000 18000 21000 30000 28000 23000 12000 13000 45000 98000\n",
            " 87000 56999]\n",
            "A2: [12000 15000  7000  8000 10000 20000 25000 21000 11000 11000 12000 21000\n",
            " 52000 51500]\n"
          ]
        }
      ]
    },
    {
      "cell_type": "code",
      "source": [
        "#Addition\n",
        "resultarray=np.add(arr_sal,arr_exp)\n",
        "print(\"\\nAddition using Numpy Function:\\n\",resultarray)"
      ],
      "metadata": {
        "colab": {
          "base_uri": "https://localhost:8080/"
        },
        "id": "PhGBK-N-eVp_",
        "outputId": "73661e02-fe7b-4915-da8b-b09b95ecb0ec"
      },
      "execution_count": null,
      "outputs": [
        {
          "output_type": "stream",
          "name": "stdout",
          "text": [
            "\n",
            "Addition using Numpy Function:\n",
            " [ 37000  35000  22000  26000  31000  50000  53000  44000  23000  24000\n",
            "  57000 119000 139000 108499]\n"
          ]
        }
      ]
    },
    {
      "cell_type": "code",
      "source": [
        "#Substraction\n",
        "resultarray=np.subtract(arr_sal,arr_exp)\n",
        "print(\"\\nsubstraction using Numpy Function:\\n\",resultarray)"
      ],
      "metadata": {
        "colab": {
          "base_uri": "https://localhost:8080/"
        },
        "id": "vst_7Kjkeo22",
        "outputId": "d981f083-2003-42d6-c9eb-ca6ca7391689"
      },
      "execution_count": null,
      "outputs": [
        {
          "output_type": "stream",
          "name": "stdout",
          "text": [
            "\n",
            "substraction using Numpy Function:\n",
            " [13000  5000  8000 10000 11000 10000  3000  2000  1000  2000 33000 77000\n",
            " 35000  5499]\n"
          ]
        }
      ]
    },
    {
      "cell_type": "code",
      "source": [
        "#Multiplication\n",
        "resultarray=np.multiply(arr_sal,arr_exp)\n",
        "print(\"\\nmultiplication using Numpy Function:\\n\",resultarray)\n"
      ],
      "metadata": {
        "colab": {
          "base_uri": "https://localhost:8080/"
        },
        "id": "20aTgrvZez2O",
        "outputId": "e0937127-ed34-4c1b-f309-50de56c76ee2"
      },
      "execution_count": null,
      "outputs": [
        {
          "output_type": "stream",
          "name": "stdout",
          "text": [
            "\n",
            "multiplication using Numpy Function:\n",
            " [ 300000000  300000000  105000000  144000000  210000000  600000000\n",
            "  700000000  483000000  132000000  143000000  540000000 2058000000\n",
            " 4524000000 2935448500]\n"
          ]
        }
      ]
    },
    {
      "cell_type": "code",
      "source": [
        "#Division\n",
        "resultarray=np.subtract(arr_sal,arr_exp)\n",
        "print(\"\\nDivision using Numpy Function:\\n\",resultarray)"
      ],
      "metadata": {
        "colab": {
          "base_uri": "https://localhost:8080/"
        },
        "id": "_ewvUR6TfMOe",
        "outputId": "c5c625e8-3d7f-467a-8284-fb3f0c6f14a2"
      },
      "execution_count": null,
      "outputs": [
        {
          "output_type": "stream",
          "name": "stdout",
          "text": [
            "\n",
            "Division using Numpy Function:\n",
            " [13000  5000  8000 10000 11000 10000  3000  2000  1000  2000 33000 77000\n",
            " 35000  5499]\n"
          ]
        }
      ]
    },
    {
      "cell_type": "code",
      "source": [
        "# mod of two array\n",
        "resultarray=np.mod(arr_sal,arr_exp)\n",
        "print(\"\\nthe mod of two array is:\\n\",resultarray)"
      ],
      "metadata": {
        "colab": {
          "base_uri": "https://localhost:8080/"
        },
        "id": "zSoZ8ShYgmu_",
        "outputId": "d1475264-3353-4748-df6f-2286a6309841"
      },
      "execution_count": null,
      "outputs": [
        {
          "output_type": "stream",
          "name": "stdout",
          "text": [
            "\n",
            "the mod of two array is:\n",
            " [ 1000  5000  1000  2000  1000 10000  3000  2000  1000  2000  9000 14000\n",
            " 35000  5499]\n"
          ]
        }
      ]
    },
    {
      "cell_type": "code",
      "source": [
        "# The dot function of two array\n",
        "resultarray=np.dot(arr_sal,arr_exp)\n",
        "print(\"\\nThe dot function of two array is :\\n\",resultarray)"
      ],
      "metadata": {
        "colab": {
          "base_uri": "https://localhost:8080/"
        },
        "id": "-KsxvSb1g9tm",
        "outputId": "3945c79f-6660-46a9-d005-03cdc0a32aa3"
      },
      "execution_count": null,
      "outputs": [
        {
          "output_type": "stream",
          "name": "stdout",
          "text": [
            "\n",
            "The dot function of two array is :\n",
            " 13174448500\n"
          ]
        }
      ]
    },
    {
      "cell_type": "code",
      "source": [
        "#Statistical operations for salary\n",
        "#standard deviation\n",
        "print(\"The standard deviation is\\n\",np.std(arr_sal))\n",
        "#minimum\n",
        "print(\"The minimum value of salary is\\n\",np.min(arr_sal))\n",
        "#summation\n",
        "print(\"The summation of all salaries is\\n\",np.sum(arr_sal))\n",
        "#Median\n",
        "print(\"The medain of the salary is\\n\",np.median(arr_sal))\n",
        "#mean\n",
        "print(\"The mean of the salary is\\n\",np.mean(arr_sal))"
      ],
      "metadata": {
        "colab": {
          "base_uri": "https://localhost:8080/"
        },
        "id": "Tmi1R9dJcyf-",
        "outputId": "ec145320-ae6e-4008-fe01-b600fc5cff2d"
      },
      "execution_count": null,
      "outputs": [
        {
          "output_type": "stream",
          "name": "stdout",
          "text": [
            "The standard deviation is\n",
            " 26319.018886888003\n",
            "The minimum value of salary is\n",
            " 12000\n",
            "The summation of all salaries is\n",
            " 491999\n",
            "The medain of the salary is\n",
            " 24000.0\n",
            "The mean of the salary is\n",
            " 35142.78571428572\n"
          ]
        }
      ]
    },
    {
      "cell_type": "code",
      "source": [
        "#for expense\n",
        "#standard deviation\n",
        "print(\"The standard deviation is\\n\",np.std(arr_exp))\n",
        "#minimum\n",
        "print(\"The minimum value of expense is\\n\",np.min(arr_exp))\n",
        "#summation\n",
        "print(\"The summation of everyone's expense is\\n\",np.sum(arr_exp))\n",
        "#Median\n",
        "print(\"The medain of the expense is\\n\",np.median(arr_exp))\n",
        "#mean\n",
        "print(\"The mean of the expense is\\n\",np.mean(arr_exp))"
      ],
      "metadata": {
        "colab": {
          "base_uri": "https://localhost:8080/"
        },
        "id": "_wqX1oV5c0Nd",
        "outputId": "89bacdc4-694a-496f-9a93-90940e1f9aad"
      },
      "execution_count": null,
      "outputs": [
        {
          "output_type": "stream",
          "name": "stdout",
          "text": [
            "The standard deviation is\n",
            " 14067.12225621959\n",
            "The minimum value of expense is\n",
            " 7000\n",
            "The summation of everyone's expense is\n",
            " 276500\n",
            "The medain of the expense is\n",
            " 13500.0\n",
            "The mean of the expense is\n",
            " 19750.0\n"
          ]
        }
      ]
    },
    {
      "cell_type": "code",
      "source": [
        "#Vertical stacking\n",
        "resultarray=np.vstack((arr_sal,arr_exp))\n",
        "resultarray"
      ],
      "metadata": {
        "colab": {
          "base_uri": "https://localhost:8080/"
        },
        "id": "3_fs7m-wdvRV",
        "outputId": "6a79e1fc-9bba-42e3-8ef4-d980977ddfb9"
      },
      "execution_count": null,
      "outputs": [
        {
          "output_type": "execute_result",
          "data": {
            "text/plain": [
              "array([[25000, 20000, 15000, 18000, 21000, 30000, 28000, 23000, 12000,\n",
              "        13000, 45000, 98000, 87000, 56999],\n",
              "       [12000, 15000,  7000,  8000, 10000, 20000, 25000, 21000, 11000,\n",
              "        11000, 12000, 21000, 52000, 51500]])"
            ]
          },
          "metadata": {},
          "execution_count": 23
        }
      ]
    },
    {
      "cell_type": "code",
      "source": [
        "#Horizontal stacking\n",
        "resultarray=np.hstack((arr_sal,arr_exp))\n",
        "resultarray"
      ],
      "metadata": {
        "colab": {
          "base_uri": "https://localhost:8080/"
        },
        "id": "RivjmfzdeMnc",
        "outputId": "44b554c4-0dd5-465a-f807-f4b97794abf2"
      },
      "execution_count": null,
      "outputs": [
        {
          "output_type": "execute_result",
          "data": {
            "text/plain": [
              "array([25000, 20000, 15000, 18000, 21000, 30000, 28000, 23000, 12000,\n",
              "       13000, 45000, 98000, 87000, 56999, 12000, 15000,  7000,  8000,\n",
              "       10000, 20000, 25000, 21000, 11000, 11000, 12000, 21000, 52000,\n",
              "       51500])"
            ]
          },
          "metadata": {},
          "execution_count": 40
        }
      ]
    },
    {
      "cell_type": "code",
      "source": [
        "array1=np.array([1,2,3],dtype=np.uint8)\n",
        "array2=np.array([4,5,6])\n",
        "# AND\n",
        "resultarray=np.bitwise_and(array1,array2)\n",
        "print(resultarray)\n",
        "# OR\n",
        "resultarray=np.bitwise_or(array1,array2)\n",
        "print(resultarray)\n",
        "#LeftShift\n",
        "resultarray=np.left_shift(array1,2)\n",
        "print(resultarray)\n",
        "#RightShift\n",
        "resultarray=np.right_shift(array1,2)\n",
        "print(resultarray)"
      ],
      "metadata": {
        "colab": {
          "base_uri": "https://localhost:8080/"
        },
        "id": "CnpiiqmwP1uO",
        "outputId": "d808493f-04ca-4739-b66a-73b8e70e1fad"
      },
      "execution_count": null,
      "outputs": [
        {
          "output_type": "stream",
          "name": "stdout",
          "text": [
            "[0 0 2]\n",
            "[5 7 7]\n",
            "[ 4  8 12]\n",
            "[0 0 0]\n"
          ]
        }
      ]
    },
    {
      "cell_type": "code",
      "source": [
        "#Copying two arrays\n",
        "\n",
        "newarray=arr_sal.copy()\n",
        "print(newarray)\n",
        "##modification in Original Array\n",
        "arr_sal[0]=100\n",
        "print(arr_sal)\n",
        "print(newarray)"
      ],
      "metadata": {
        "colab": {
          "base_uri": "https://localhost:8080/"
        },
        "id": "sX4qzpWGiHLF",
        "outputId": "d1a7c6dc-fff4-47b9-fa5d-31c150b05372"
      },
      "execution_count": null,
      "outputs": [
        {
          "output_type": "stream",
          "name": "stdout",
          "text": [
            "[  100 20000 15000 18000 21000 30000 28000 23000 12000 13000 45000 98000\n",
            " 87000 56999]\n",
            "[  100 20000 15000 18000 21000 30000 28000 23000 12000 13000 45000 98000\n",
            " 87000 56999]\n",
            "[  100 20000 15000 18000 21000 30000 28000 23000 12000 13000 45000 98000\n",
            " 87000 56999]\n"
          ]
        }
      ]
    },
    {
      "cell_type": "code",
      "source": [
        "\n",
        "newarray=arr_sal.view()\n",
        "print(newarray)\n",
        "##modification in Original Array\n",
        "arr_sal[0]=100\n",
        "print(arr_sal)\n",
        "print(newarray)"
      ],
      "metadata": {
        "colab": {
          "base_uri": "https://localhost:8080/"
        },
        "id": "9BZSxp8nSy6Q",
        "outputId": "72043940-5b49-4643-9eb0-e5c7c1346bbf"
      },
      "execution_count": null,
      "outputs": [
        {
          "output_type": "stream",
          "name": "stdout",
          "text": [
            "[  100 20000 15000 18000 21000 30000 28000 23000 12000 13000 45000 98000\n",
            " 87000 56999]\n",
            "[  100 20000 15000 18000 21000 30000 28000 23000 12000 13000 45000 98000\n",
            " 87000 56999]\n",
            "[  100 20000 15000 18000 21000 30000 28000 23000 12000 13000 45000 98000\n",
            " 87000 56999]\n"
          ]
        }
      ]
    },
    {
      "cell_type": "code",
      "source": [
        "\n",
        "x=np.where(arr_sal%2==0)\n",
        "print(x)"
      ],
      "metadata": {
        "colab": {
          "base_uri": "https://localhost:8080/"
        },
        "id": "5uYPeoYlTkV5",
        "outputId": "465609fb-8e62-40e1-ca70-cdbca8674f70"
      },
      "execution_count": null,
      "outputs": [
        {
          "output_type": "stream",
          "name": "stdout",
          "text": [
            "(array([ 0,  1,  2,  3,  4,  5,  6,  7,  8,  9, 10, 11, 12]),)\n"
          ]
        }
      ]
    },
    {
      "cell_type": "code",
      "source": [
        "np.searchsorted(arr_sal,7,side=\"left\")#Perform Search After sorting"
      ],
      "metadata": {
        "colab": {
          "base_uri": "https://localhost:8080/"
        },
        "id": "3QNzX9IZUVEx",
        "outputId": "dfc62b8b-24fb-4630-af44-d5d24f162503"
      },
      "execution_count": null,
      "outputs": [
        {
          "output_type": "execute_result",
          "data": {
            "text/plain": [
              "0"
            ]
          },
          "metadata": {},
          "execution_count": 17
        }
      ]
    },
    {
      "cell_type": "code",
      "source": [
        "np.sort(arr_sal,axis=0)#Horizontally Sort"
      ],
      "metadata": {
        "colab": {
          "base_uri": "https://localhost:8080/"
        },
        "id": "a98ugiIUUlEH",
        "outputId": "783a6118-6d57-4a56-d045-e578de520d3b"
      },
      "execution_count": null,
      "outputs": [
        {
          "output_type": "execute_result",
          "data": {
            "text/plain": [
              "array([  100, 12000, 13000, 15000, 18000, 20000, 21000, 23000, 28000,\n",
              "       30000, 45000, 56999, 87000, 98000])"
            ]
          },
          "metadata": {},
          "execution_count": 20
        }
      ]
    },
    {
      "cell_type": "code",
      "source": [
        "import numpy as np\n",
        "nparray=np.arange(0,12,1).reshape(3,4)\n",
        "nparray"
      ],
      "metadata": {
        "colab": {
          "base_uri": "https://localhost:8080/"
        },
        "id": "kv3EEBFyNg-Q",
        "outputId": "10ed8c2f-403b-456e-f4c1-7c01a5817137"
      },
      "execution_count": null,
      "outputs": [
        {
          "output_type": "execute_result",
          "data": {
            "text/plain": [
              "array([[ 0,  1,  2,  3],\n",
              "       [ 4,  5,  6,  7],\n",
              "       [ 8,  9, 10, 11]])"
            ]
          },
          "metadata": {},
          "execution_count": 1
        }
      ]
    },
    {
      "cell_type": "code",
      "source": [
        "nparray=np.linspace(start=0,stop=24,num=12).reshape(3,4)\n",
        "nparray"
      ],
      "metadata": {
        "colab": {
          "base_uri": "https://localhost:8080/"
        },
        "id": "dPQs1BdUOJZX",
        "outputId": "b061bdd9-7fe9-41d6-a9b2-647a4e87c377"
      },
      "execution_count": null,
      "outputs": [
        {
          "output_type": "execute_result",
          "data": {
            "text/plain": [
              "array([[ 0.        ,  2.18181818,  4.36363636,  6.54545455],\n",
              "       [ 8.72727273, 10.90909091, 13.09090909, 15.27272727],\n",
              "       [17.45454545, 19.63636364, 21.81818182, 24.        ]])"
            ]
          },
          "metadata": {},
          "execution_count": 2
        }
      ]
    },
    {
      "cell_type": "code",
      "source": [
        "#Stacking\n",
        "z=np.stack((arr_sal,arr_exp),axis=0)\n",
        "print(z)"
      ],
      "metadata": {
        "colab": {
          "base_uri": "https://localhost:8080/"
        },
        "id": "b0j7ew0EioF1",
        "outputId": "576d572b-0359-4389-9bc1-2635f0d9caad"
      },
      "execution_count": null,
      "outputs": [
        {
          "output_type": "stream",
          "name": "stdout",
          "text": [
            "[[  100 20000 15000 18000 21000 30000 28000 23000 12000 13000 45000 98000\n",
            "  87000 56999]\n",
            " [12000 15000  7000  8000 10000 20000 25000 21000 11000 11000 12000 21000\n",
            "  52000 51500]]\n"
          ]
        }
      ]
    },
    {
      "cell_type": "code",
      "source": [
        "from numpy import array\n",
        "a = array([1.0, 2.0, 3.0])\n",
        "b = array([2.0, 2.0, 2.0])\n",
        "a * b\n"
      ],
      "metadata": {
        "colab": {
          "base_uri": "https://localhost:8080/"
        },
        "id": "Lo8c-1BDj6oW",
        "outputId": "24434e63-307e-4523-87a8-2a44a9008390"
      },
      "execution_count": null,
      "outputs": [
        {
          "output_type": "execute_result",
          "data": {
            "text/plain": [
              "array([2., 4., 6.])"
            ]
          },
          "metadata": {},
          "execution_count": 29
        }
      ]
    }
  ]
}